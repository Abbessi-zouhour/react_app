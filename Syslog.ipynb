{
  "nbformat": 4,
  "nbformat_minor": 0,
  "metadata": {
    "colab": {
      "provenance": [],
      "mount_file_id": "1BMcG79ICAUO2lTfd_Ac5HdOwdEsfVfv3",
      "authorship_tag": "ABX9TyNgu41xo//XO/vseXTsEqUU",
      "include_colab_link": true
    },
    "kernelspec": {
      "name": "python3",
      "display_name": "Python 3"
    },
    "language_info": {
      "name": "python"
    }
  },
  "cells": [
    {
      "cell_type": "markdown",
      "metadata": {
        "id": "view-in-github",
        "colab_type": "text"
      },
      "source": [
        "<a href=\"https://colab.research.google.com/github/Abbessi-zouhour/React-Website/blob/master/Syslog.ipynb\" target=\"_parent\"><img src=\"https://colab.research.google.com/assets/colab-badge.svg\" alt=\"Open In Colab\"/></a>"
      ]
    },
    {
      "cell_type": "code",
      "execution_count": 2,
      "metadata": {
        "id": "FTOkqrQLibnF"
      },
      "outputs": [],
      "source": [
        "import re\n",
        "import csv\n",
        "from collections import defaultdict\n",
        "\n",
        "def parse_log(log_file):\n",
        "    error_dict = defaultdict(int)\n",
        "    per_user_dict = defaultdict(lambda: {'INFO': 0, 'ERROR': 0})\n",
        "\n",
        "    with open(log_file, 'r') as file:\n",
        "        for line in file:\n",
        "            match_info = re.match(r'(\\S+ \\d+ \\d+:\\d+:\\d+) \\S+ ticky: INFO (.+) \\((\\w+)\\)', line)\n",
        "            match_error = re.match(r'(\\S+ \\d+ \\d+:\\d+:\\d+) \\S+ ticky: ERROR (.+) \\((\\w+)\\)', line)\n",
        "\n",
        "            if match_info:\n",
        "                timestamp, action, username = match_info.groups()\n",
        "                per_user_dict[username]['INFO'] += 1\n",
        "            elif match_error:\n",
        "                timestamp, error_msg, username = match_error.groups()\n",
        "                per_user_dict[username]['ERROR'] += 1\n",
        "                error_dict[error_msg] += 1\n",
        "\n",
        "    return error_dict, per_user_dict\n",
        "\n",
        "def generate_reports(error_dict, per_user_dict):\n",
        "    sorted_error = sorted(error_dict.items(), key=lambda x: x[1], reverse=True)\n",
        "    sorted_per_user = sorted(per_user_dict.items())\n",
        "\n",
        "    # Writing error_message.csv\n",
        "    with open('error_message.csv', 'w', newline='') as csvfile:\n",
        "        csv_writer = csv.writer(csvfile)\n",
        "        csv_writer.writerow([\"Error\", \"Count\"])\n",
        "        csv_writer.writerows(sorted_error)\n",
        "\n",
        "    # Writing user_statistics.csv\n",
        "    with open('user_statistics.csv', 'w', newline='') as csvfile:\n",
        "        csv_writer = csv.writer(csvfile)\n",
        "        csv_writer.writerow([\"Username\", \"INFO\", \"ERROR\"])\n",
        "        for username, counts in sorted_per_user:\n",
        "            csv_writer.writerow([username, counts['INFO'], counts['ERROR']])\n",
        "\n",
        "if __name__ == \"__main__\":\n",
        "    log_file = \"/content/drive/MyDrive/syslog.log\"\n",
        "    error_dict, per_user_dict = parse_log(log_file)\n",
        "    generate_reports(error_dict, per_user_dict)\n"
      ]
    }
  ]
}